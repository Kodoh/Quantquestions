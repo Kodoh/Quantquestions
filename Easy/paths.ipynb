{
  "metadata": {
    "kernelspec": {
      "name": "python",
      "display_name": "Python (Pyodide)",
      "language": "python"
    },
    "language_info": {
      "codemirror_mode": {
        "name": "python",
        "version": 3
      },
      "file_extension": ".py",
      "mimetype": "text/x-python",
      "name": "python",
      "nbconvert_exporter": "python",
      "pygments_lexer": "ipython3",
      "version": "3.8"
    }
  },
  "nbformat_minor": 5,
  "nbformat": 4,
  "cells": [
    {
      "id": "a35eeb9f-df70-4ab1-a243-2d2025888eb0",
      "cell_type": "markdown",
      "source": "# Counting Paths in a 6x6 Grid\n\n## Problem Statement\n\nYou are playing a 2D game where your character is trapped within a $6 \\times 6$ grid. Your character starts at $(0,0)$ and can only move up and right. How many possible paths can your character take to get to $(6,6)$?\n\n### Steps to Solution\n\n1. **Identify the Total Moves Required**:\n   - Moving from $(0,0)$ to $(6,6)$ involves 6 moves to the right and 6 moves up.\n   - This means a total of 12 moves (6 rights and 6 ups).\n\n2. **Use Combinatorics**:\n   - The problem is equivalent to finding the number of ways to arrange 6 rights (R) and 6 ups (U) in a sequence of 12 moves.\n   - The number of such sequences is given by the binomial coefficient $\\binom{12}{6}$ (or equivalently $\\binom{12}{6}$).\n\n3. **Calculate the Binomial Coefficient**:\n   $$\n   \\binom{12}{6} = \\frac{12!}{6! \\cdot 6!}\n   $$\n\n### Calculation\n\nFirst, compute the factorial values:\n$$\n12! = 479,001,600\n$$\n$$\n6! = 720\n$$\n\nThen, use these values to calculate the binomial coefficient:\n$$\n\\binom{12}{6} = \\frac{12!}{6! \\cdot 6!} = \\frac{479,001,600}{720 \\times 720}\n$$\n$$\n\\binom{12}{6} = \\frac{479,001,600}{518,400} = 924\n$$\n\nThus, the number of possible paths from $(0,0)$ to $(6,6)$ is:\n\n$$\n\\boxed{924}\n$$\n",
      "metadata": {}
    }
  ]
}