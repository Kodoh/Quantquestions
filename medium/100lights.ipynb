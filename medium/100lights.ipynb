{
 "cells": [
  {
   "cell_type": "markdown",
   "metadata": {},
   "source": [
    "# Light Bulbs Problem\n",
    "\n",
    "We have 100 light bulbs initially turned off. Each light bulb has its own switch. The first person flips every switch, the second person flips every second switch, and so on, until the 100th person flips the 100th switch.\n",
    "\n",
    "Our goal is to determine how many lights are on after the 100th person has toggled the switches.\n",
    "\n",
    "## Analysis\n",
    "\n",
    "Each light bulb is toggled by every person whose number is a divisor of the bulb's position number. For instance, bulb `k` is toggled by every person whose number is a divisor of `k`. Therefore, the number of times a bulb `k` is toggled is equal to the number of divisors of `k`.\n",
    "\n",
    "A light bulb will be on if it is toggled an odd number of times. This happens if and only if the number of divisors of the bulb's position number is odd. Typically, numbers have an even number of divisors because divisors generally come in pairs. However, a number has an odd number of divisors only if it is a perfect square (since the square root of the number is repeated only once).\n",
    "\n",
    "Thus, the bulbs that remain on correspond to the positions that are perfect squares.\n",
    "\n",
    "## Finding the Perfect Squares\n",
    "\n",
    "We need to find all the perfect squares between 1 and 100. These positions will correspond to the bulbs that are on."
   ]
  },
  {
   "cell_type": "code",
   "execution_count": 4,
   "metadata": {},
   "outputs": [
    {
     "data": {
      "text/plain": [
       "10"
      ]
     },
     "execution_count": 4,
     "metadata": {},
     "output_type": "execute_result"
    }
   ],
   "source": [
    "# Solution\n",
    "perfect_squares = [i**2 for i in range(1, 11)]\n",
    "len(perfect_squares)"
   ]
  }
 ],
 "metadata": {
  "kernelspec": {
   "display_name": "Python 3",
   "language": "python",
   "name": "python3"
  },
  "language_info": {
   "codemirror_mode": {
    "name": "ipython",
    "version": 3
   },
   "file_extension": ".py",
   "mimetype": "text/x-python",
   "name": "python",
   "nbconvert_exporter": "python",
   "pygments_lexer": "ipython3",
   "version": "3.9.6"
  }
 },
 "nbformat": 4,
 "nbformat_minor": 2
}
