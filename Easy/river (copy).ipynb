{
  "metadata": {
    "kernelspec": {
      "name": "python",
      "display_name": "Python (Pyodide)",
      "language": "python"
    },
    "language_info": {
      "codemirror_mode": {
        "name": "python",
        "version": 3
      },
      "file_extension": ".py",
      "mimetype": "text/x-python",
      "name": "python",
      "nbconvert_exporter": "python",
      "pygments_lexer": "ipython3",
      "version": "3.8"
    }
  },
  "nbformat_minor": 5,
  "nbformat": 4,
  "cells": [
    {
      "id": "a35eeb9f-df70-4ab1-a243-2d2025888eb0",
      "cell_type": "markdown",
      "source": "# River Length Calculation\n\n## Problem Statement\n\nYou are in a river of unknown length and velocity. You know that if you are stationary on the river, it takes you 6 seconds to reach the other end. If you swim down the river at a rate of 3 feet per second, it takes you 4 seconds to reach the other end. Find the length of the river (in feet).\n\n## Solution\n\nTo find the length of the river, we will use the given information about the times it takes to travel different speeds to set up equations and solve for the river's length.\n\n### Given:\n1. Time taken when stationary: $t_1 = 6$ seconds\n2. Time taken when swimming down the river at 3 feet per second: $t_2 = 4$ seconds\n3. Swimming speed: $v_s = 3$ feet per second\n\n### Assumptions:\n1. Let $v_r$ be the speed of the river current.\n2. Let $L$ be the length of the river.\n\n### Finding the River's Speed:\nWhen stationary on the river, the speed of travel is equal to the speed of the river current, $v_r$.\n\n$$ v_r = \\frac{L}{t_1} = \\frac{L}{6} $$\n\n### Finding the Length of the River:\nWhen swimming down the river, the effective speed is the sum of the swimmer's speed and the river current's speed.\n\n$$ v_{\\text{effective}} = v_s + v_r = 3 + \\frac{L}{6} $$\n\nThe distance $L$ can also be expressed in terms of the effective speed and the time taken:\n\n$$ L = v_{\\text{effective}} \\times t_2 $$\n\nSubstituting the effective speed into the equation:\n\n$$ L = \\left(3 + \\frac{L}{6}\\right) \\times 4 $$\n\n### Solving for $L$:\n\n$$ L = 4 \\left(3 + \\frac{L}{6}\\right) $$\n$$ L = 4 \\times 3 + 4 \\times \\frac{L}{6} $$\n$$ L = 12 + \\frac{4L}{6} $$\n$$ L = 12 + \\frac{2L}{3} $$\n\nTo isolate $L$, multiply every term by 3 to clear the fraction:\n\n$$ 3L = 36 + 2L $$\n$$ 3L - 2L = 36 $$\n$$ L = 36 $$\n\n### Conclusion\nThe length of the river is:\n\n$$ \\boxed{36 \\, \\text{feet}} $$\n",
      "metadata": {
        "jp-MarkdownHeadingCollapsed": true
      }
    }
  ]
}