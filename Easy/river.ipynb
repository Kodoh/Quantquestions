# River Length Calculation

## Problem Statement

You are in a river of unknown length and velocity. You know that if you are stationary on the river, it takes you 6 seconds to reach the other end. If you swim down the river at a rate of 3 feet per second, it takes you 4 seconds to reach the other end. Find the length of the river (in feet).

## Solution

To find the length of the river, we will use the given information about the times it takes to travel different speeds to set up equations and solve for the river's length.

### Given:
1. Time taken when stationary: $t_1 = 6$ seconds
2. Time taken when swimming down the river at 3 feet per second: $t_2 = 4$ seconds
3. Swimming speed: $v_s = 3$ feet per second

### Assumptions:
1. Let $v_r$ be the speed of the river current.
2. Let $L$ be the length of the river.

### Finding the River's Speed:
When stationary on the river, the speed of travel is equal to the speed of the river current, $v_r$.

$$ v_r = \frac{L}{t_1} = \frac{L}{6} $$

### Finding the Length of the River:
When swimming down the river, the effective speed is the sum of the swimmer's speed and the river current's speed.

$$ v_{\text{effective}} = v_s + v_r = 3 + \frac{L}{6} $$

The distance $L$ can also be expressed in terms of the effective speed and the time taken:

$$ L = v_{\text{effective}} \times t_2 $$

Substituting the effective speed into the equation:

$$ L = \left(3 + \frac{L}{6}\right) \times 4 $$

### Solving for $L$:

$$ L = 4 \left(3 + \frac{L}{6}\right) $$
$$ L = 4 \times 3 + 4 \times \frac{L}{6} $$
$$ L = 12 + \frac{4L}{6} $$
$$ L = 12 + \frac{2L}{3} $$

To isolate $L$, multiply every term by 3 to clear the fraction:

$$ 3L = 36 + 2L $$
$$ 3L - 2L = 36 $$
$$ L = 36 $$

### Conclusion
The length of the river is:

$$ \boxed{36 \, \text{feet}} $$
