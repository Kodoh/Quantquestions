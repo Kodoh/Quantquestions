{
  "metadata": {
    "kernelspec": {
      "name": "python",
      "display_name": "Python (Pyodide)",
      "language": "python"
    },
    "language_info": {
      "codemirror_mode": {
        "name": "python",
        "version": 3
      },
      "file_extension": ".py",
      "mimetype": "text/x-python",
      "name": "python",
      "nbconvert_exporter": "python",
      "pygments_lexer": "ipython3",
      "version": "3.8"
    }
  },
  "nbformat_minor": 4,
  "nbformat": 4,
  "cells": [
    {
      "cell_type": "markdown",
      "source": "# Probability of Landing Heads 10 Times in a Row\n\nTo find the probability of landing heads 10 times in a row when flipping a coin randomly chosen from a pile of 100 coins (with one unfair coin and 99 fair coins), we need to consider the outcomes for both the unfair and fair coins.\n\nLet's denote:\n- $C_U$: The event of choosing the unfair coin.\n- $C_F$: The event of choosing a fair coin.\n\nThe probabilities are:\n- $P(C_U) = \\frac{1}{100}$\n- $P(C_F) = \\frac{99}{100}$\n\nGiven the type of coin, the probability of landing heads 10 times in a row is:\n- For the unfair coin (heads on both sides), $P(H_{10} \\mid C_U) = 1$\n- For a fair coin, $P(H_{10} \\mid C_F) = \\left(\\frac{1}{2}\\right)^{10} = \\frac{1}{1024}$\n\nUsing the law of total probability, the overall probability of landing heads 10 times in a row, $P(H_{10})$, is given by:\n\n$$\nP(H_{10}) = P(H_{10} \\mid C_U) \\cdot P(C_U) + P(H_{10} \\mid C_F) \\cdot P(C_F)\n$$\n\nSubstituting the known values:\n\n$$\nP(H_{10}) = 1 \\cdot \\frac{1}{100} + \\frac{1}{1024} \\cdot \\frac{99}{100}\n$$\n\n$$\nP(H_{10}) = \\frac{1}{100} + \\frac{99}{102400}\n$$\n\nTo combine these fractions, find a common denominator (which is 102400):\n\n$$\nP(H_{10}) = \\frac{1024}{102400} + \\frac{99}{102400}\n$$\n\n$$\nP(H_{10}) = \\frac{1024 + 99}{102400}\n$$\n\n$$\nP(H_{10}) = \\frac{1123}{102400}\n$$\n\nThus, the probability of landing heads 10 times in a row is:\n\n$$\nP(H_{10}) = \\frac{1123}{102400}\n$$\n\nSimplifying the fraction:\n\n$$\nP(H_{10}) \\approx 0.01096\n$$\n\nSo, the probability of landing heads 10 times in a row when flipping a randomly chosen coin from the pile is approximately $0.01096$ or about 1.096%.\n",
      "metadata": {}
    }
  ]
}